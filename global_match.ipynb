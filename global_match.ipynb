{
  "nbformat": 4,
  "nbformat_minor": 0,
  "metadata": {
    "colab": {
      "name": "global_match.ipynb",
      "provenance": [],
      "collapsed_sections": [],
      "authorship_tag": "ABX9TyOkQbQ36QETnUQHj5a6hK0B"
    },
    "kernelspec": {
      "name": "python3",
      "display_name": "Python 3"
    }
  },
  "cells": [
    {
      "cell_type": "code",
      "metadata": {
        "id": "EHtmOuWO1YxK",
        "colab_type": "code",
        "colab": {}
      },
      "source": [
        "import numpy as np\n",
        "import scipy.spatial as ss\n",
        "import matplotlib.pyplot as plt\n",
        "%matplotlib inline"
      ],
      "execution_count": 1,
      "outputs": []
    },
    {
      "cell_type": "code",
      "metadata": {
        "id": "nvCpNy9s1b1i",
        "colab_type": "code",
        "colab": {}
      },
      "source": [
        "nb_data = 10\n",
        "x = np.random.rand(10, 2)"
      ],
      "execution_count": 2,
      "outputs": []
    },
    {
      "cell_type": "code",
      "metadata": {
        "id": "BnXnAX5O1c_H",
        "colab_type": "code",
        "colab": {}
      },
      "source": [
        "rad = 0.2\n",
        "R = np.array([[np.cos(rad), -np.sin(rad)], [np.sin(rad), np.cos(rad)]])\n",
        "y = x.dot(R.T)"
      ],
      "execution_count": 3,
      "outputs": []
    },
    {
      "cell_type": "code",
      "metadata": {
        "id": "HXYhARlj1eH2",
        "colab_type": "code",
        "colab": {}
      },
      "source": [
        "x = x - np.mean(x, axis=0, keepdims=True)\n",
        "y = y - np.mean(y, axis=0, keepdims=True)"
      ],
      "execution_count": 4,
      "outputs": []
    },
    {
      "cell_type": "code",
      "metadata": {
        "id": "7_w7bYre1fWN",
        "colab_type": "code",
        "colab": {
          "base_uri": "https://localhost:8080/",
          "height": 282
        },
        "outputId": "2333e081-1ae1-49f5-8266-258da2fd5815"
      },
      "source": [
        "plt.scatter(x[:,0], x[:,1])\n",
        "plt.scatter(y[:,0], y[:,1])"
      ],
      "execution_count": 5,
      "outputs": [
        {
          "output_type": "execute_result",
          "data": {
            "text/plain": [
              "<matplotlib.collections.PathCollection at 0x7fd995a5e748>"
            ]
          },
          "metadata": {
            "tags": []
          },
          "execution_count": 5
        },
        {
          "output_type": "display_data",
          "data": {
            "image/png": "[encoded data removed]",
            "text/plain": [
              "<Figure size 432x288 with 1 Axes>"
            ]
          },
          "metadata": {
            "tags": [],
            "needs_background": "light"
          }
        }
      ]
    },
    {
      "cell_type": "code",
      "metadata": {
        "id": "QUf9nXnf1gjg",
        "colab_type": "code",
        "colab": {}
      },
      "source": [
        "ret = []\n",
        "for i in range(10):\n",
        "    r = i / 10 - 0.5\n",
        "    R = np.array([[np.cos(r), -np.sin(r)], [np.sin(r), np.cos(r)]])\n",
        "\n",
        "    py = y.dot(R.T)\n",
        "\n",
        "    d = np.expand_dims(py, 1) - np.expand_dims(x, 0)\n",
        "    d = np.sqrt((d ** 2).sum(axis=2))\n",
        "    ret.append({'angle': r, 'energy': d.sum()})"
      ],
      "execution_count": 6,
      "outputs": []
    },
    {
      "cell_type": "code",
      "metadata": {
        "id": "kvZaNH3x1iLA",
        "colab_type": "code",
        "colab": {
          "base_uri": "https://localhost:8080/",
          "height": 34
        },
        "outputId": "be52a375-84b7-4218-fd84-5db4fb97e4d8"
      },
      "source": [
        "sorted(ret, key=lambda x:x['energy'])[0]"
      ],
      "execution_count": 7,
      "outputs": [
        {
          "output_type": "execute_result",
          "data": {
            "text/plain": [
              "{'angle': -0.2, 'energy': 49.59358281082615}"
            ]
          },
          "metadata": {
            "tags": []
          },
          "execution_count": 7
        }
      ]
    },
    {
      "cell_type": "code",
      "metadata": {
        "id": "T1rhUkm61upX",
        "colab_type": "code",
        "colab": {
          "base_uri": "https://localhost:8080/",
          "height": 187
        },
        "outputId": "b979f5fc-547f-4c1a-9b4f-dd3ec41d27e7"
      },
      "source": [
        "ret"
      ],
      "execution_count": 8,
      "outputs": [
        {
          "output_type": "execute_result",
          "data": {
            "text/plain": [
              "[{'angle': -0.5, 'energy': 50.439578039746145},\n",
              " {'angle': -0.4, 'energy': 50.219826258213246},\n",
              " {'angle': -0.3, 'energy': 49.937877330372665},\n",
              " {'angle': -0.2, 'energy': 49.59358281082615},\n",
              " {'angle': -0.09999999999999998, 'energy': 49.937877330372665},\n",
              " {'angle': 0.0, 'energy': 50.21982625821324},\n",
              " {'angle': 0.09999999999999998, 'energy': 50.43957803974615},\n",
              " {'angle': 0.19999999999999996, 'energy': 50.59857778866115},\n",
              " {'angle': 0.30000000000000004, 'energy': 50.70511578312546},\n",
              " {'angle': 0.4, 'energy': 50.7956115968351}]"
            ]
          },
          "metadata": {
            "tags": []
          },
          "execution_count": 8
        }
      ]
    },
    {
      "cell_type": "code",
      "metadata": {
        "id": "hxZCS61r13VO",
        "colab_type": "code",
        "colab": {}
      },
      "source": [
        ""
      ],
      "execution_count": 8,
      "outputs": []
    }
  ]
}